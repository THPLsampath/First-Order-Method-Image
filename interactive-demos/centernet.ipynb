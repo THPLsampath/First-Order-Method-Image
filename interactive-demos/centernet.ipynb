{
  "nbformat": 4,
  "nbformat_minor": 2,
  "metadata": {
    "kernelspec": {
      "display_name": "Python 3",
      "language": "python",
      "name": "python3"
    },
    "accelerator": "GPU",
    "language_info": {
      "codemirror_mode": {
        "name": "ipython",
        "version": 3
      },
      "file_extension": ".py",
      "mimetype": "text/x-python",
      "name": "python",
      "nbconvert_exporter": "python",
      "pygments_lexer": "ipython3",
      "version": "3.6.8"
    },
    "colab": {
      "name": "centernet.ipynb",
      "provenance": [],
      "collapsed_sections": []
    }
  },
  "cells": [
    {
      "cell_type": "markdown",
      "metadata": {},
      "source": [
        "# CenterNet\n",
        "![alt text](https://raw.githubusercontent.com/xingyizhou/CenterNet/master/readme/fig2.png)\n",
        "\n",
        "(The image above is taken from [author's github repository](https://github.com/xingyizhou/CenterNet))\n",
        "\n",
        "This example interactively demonstrates [CenterNet](https://arxiv.org/pdf/1904.07850.pdf), a model for object detection.\n"
      ]
    },
    {
      "cell_type": "markdown",
      "metadata": {},
      "source": [
        "# Preparation\n",
        "Let's start by installing nnabla and accessing [nnabla-examples repository](https://github.com/sony/nnabla-examples). If you're running on Colab, make sure that your Runtime setting is set as GPU, which can be set up from the top menu (Runtime → change runtime type), and make sure to click **Connect** on the top right-hand side of the screen before you start."
      ]
    },
    {
      "cell_type": "code",
      "metadata": {},
      "source": [
        "!pip install nnabla-ext-cuda100\n",
        "!git clone https://github.com/sony/nnabla-examples.git\n",
        "%cd nnabla-examples/object-detection/centernet"
      ],
      "execution_count": null,
      "outputs": []
    },
    {
      "cell_type": "markdown",
      "metadata": {},
      "source": [
        "Then you need to choose backbone network architecture and dataset the pretrained model has been trained on. \r\n",
        "Just click the dropdown list and select one for each. After you choose, execute the cell."
      ]
    },
    {
      "cell_type": "code",
      "metadata": {},
      "source": [
        "#@title Choose backbone architecture and dataset which the model is trained on.\r\n",
        "architecture = 'dlav0' #@param ['resnet', 'dlav0']\r\n",
        "\r\n",
        "#@title Choose dataset\r\n",
        "dataset = 'pascal' #@param ['coco', 'pascal']\r\n",
        "\r\n",
        "if architecture == \"resnet\":\r\n",
        "  num_layer = 18\r\n",
        "else:\r\n",
        "  num_layer = 34\r\n",
        "param_url = f\"https://nnabla.org/pretrained-models/nnabla-examples/object-detection/ceneternet/ctdet/{architecture}_{num_layer}_{dataset}_fp.h5\"\r\n",
        "param_path = param_url.split(\"/\")[-1]"
      ],
      "execution_count": null,
      "outputs": []
    },
    {
      "cell_type": "markdown",
      "metadata": {},
      "source": [
        "We will now download the pre-trained weight parameters for the selected neural network."
      ]
    },
    {
      "cell_type": "code",
      "metadata": {},
      "source": [
        "!wget $param_url"
      ],
      "execution_count": null,
      "outputs": []
    },
    {
      "cell_type": "markdown",
      "metadata": {},
      "source": [
        "# Upload Image\n",
        "Run the following cell to upload your own image. Note that too small images might cause poor result.\n"
      ]
    },
    {
      "cell_type": "code",
      "metadata": {},
      "source": [
        "from google.colab import files\n",
        "\n",
        "img = files.upload()"
      ],
      "execution_count": null,
      "outputs": []
    },
    {
      "cell_type": "markdown",
      "metadata": {},
      "source": [
        "Let's rename the image for convenience.\n",
        "\n"
      ]
    },
    {
      "cell_type": "code",
      "metadata": {},
      "source": [
        "import os\n",
        "ext = os.path.splitext(list(img.keys())[-1])[-1]\n",
        "os.rename(list(img.keys())[-1], \"input_image{}\".format(ext)) \n",
        "input_img = \"input_image\" + ext"
      ],
      "execution_count": null,
      "outputs": []
    },
    {
      "cell_type": "markdown",
      "metadata": {},
      "source": [
        "# Object Detection\n",
        "Now let's run CenterNet on your image and see how it performs object detection!"
      ]
    },
    {
      "cell_type": "code",
      "metadata": {},
      "source": [
        "!python src/demo.py ctdet --dataset $dataset --arch $architecture --num_layers $num_layer --checkpoint $param_path --demo $input_img --gpus 0 --debug 1 --save_dir ."
      ],
      "execution_count": null,
      "outputs": []
    },
    {
      "cell_type": "markdown",
      "metadata": {},
      "source": [
        "The following cell will show the detection result.\r\n",
        "\r\n",
        "Play around with different types of images and different backbone architecture!"
      ]
    },
    {
      "cell_type": "code",
      "metadata": {},
      "source": [
        "from IPython.display import Image,display\r\n",
        "print('Output:')\r\n",
        "display(Image(\"ctdet.jpg\"))"
      ],
      "execution_count": null,
      "outputs": []
    }
  ]
}
