{
  "cells": [
    {
      "cell_type": "markdown",
      "metadata": {},
      "source": [
        "# Data Augmentation\n",
        "We'll show you examples of data augmentation with various techniques such as [MixUp](https://openreview.net/pdf?id=r1Ddp1-Rb), [CutMix](http://openaccess.thecvf.com/content_ICCV_2019/papers/Yun_CutMix_Regularization_Strategy_to_Train_Strong_Classifiers_With_Localizable_Features_ICCV_2019_paper.pdf), and [VH-MixUp](https://arxiv.org/pdf/1805.11272.pdf)!\n",
        "\n",
        "| Image 1 | Image 2 | Mixup | CutMix | VH-Mixup |\n",
        "| --- | --- | --- | --- | --- |\n",
        "| &nbsp; <img src=\"https://blog.nnabla.org/wp-content/uploads/sites/2/2020/04/07130642/image1.png\" alt=\"\" width=\"128\" height=\"128\" class=\"size-full wp-image-1074\" />&nbsp;  | &nbsp; <img src=\"https://blog.nnabla.org/wp-content/uploads/sites/2/2020/04/07130708/image2.png\" alt=\"\" width=\"128\" height=\"128\" class=\"size-full wp-image-1075\" /> &nbsp; | &nbsp; <img src=\"https://blog.nnabla.org/wp-content/uploads/sites/2/2020/04/07131002/mixuped_img.png\" alt=\"\" width=\"128\" height=\"128\" class=\"size-full wp-image-1076\" /> &nbsp; | &nbsp; <img src=\"https://blog.nnabla.org/wp-content/uploads/sites/2/2020/04/07131130/cutmixed_img.png\" alt=\"\" width=\"128\" height=\"128\" class=\"size-full wp-image-1077\" /> &nbsp; | &nbsp; <img src=\"https://blog.nnabla.org/wp-content/uploads/sites/2/2020/04/07131216/VHmixuped.png\" alt=\"\" width=\"128\" height=\"128\" class=\"size-full wp-image-1078\" /> &nbsp; |"
      ]
    },
    {
      "cell_type": "markdown",
      "metadata": {},
      "source": [
        "# Preparation\n",
        "Let's start by installing nnabla and accessing [nnabla-examples repository](https://github.com/sony/nnabla-examples). If you're running on Colab, make sure that your Runtime setting is set as GPU, which can be set up from the top menu (Runtime → change runtime type), and make sure to click **Connect** on the top right-hand side of the screen before you start."
      ]
    },
    {
      "cell_type": "code",
      "metadata": {},
      "source": [
        "!pip install nnabla-ext-cuda100\n",
        "!git clone https://github.com/sony/nnabla-examples.git\n",
        "%run nnabla-examples/interactive-demos/colab_utils.py\n",
        "%cd nnabla-examples/data_augmentation"
      ],
      "execution_count": null,
      "outputs": []
    },
    {
      "cell_type": "markdown",
      "metadata": {},
      "source": [
        "Next, let's import required modules first."
      ]
    },
    {
      "cell_type": "code",
      "metadata": {},
      "source": [
        "import os\n",
        "import numpy as np\n",
        "import matplotlib.pyplot as plt\n",
        "import nnabla as nn\n",
        "from nnabla.ext_utils import get_extension_context\n",
        "from nnabla.utils.image_utils import imread, imresize\n",
        "from nnabla.ext_utils import get_extension_context\n",
        "\n",
        "from MixedDataLearning import *\n",
        "from google.colab import files\n",
        "from IPython.display import Image,display\n",
        "\n",
        "ctx = get_extension_context(\"cudnn\")\n",
        "nn.set_default_context(ctx)"
      ],
      "execution_count": null,
      "outputs": []
    },
    {
      "cell_type": "markdown",
      "metadata": {},
      "source": [
        "# Upload first image\n",
        "\n",
        "Now, upload an image you'd like to use for data augmentation. "
      ]
    },
    {
      "cell_type": "code",
      "metadata": {},
      "source": [
        "img1 = files.upload()\n",
        "\n",
        "#Renaming the file for convenience. You can ignore the lines below.\n",
        "ext = os.path.splitext(list(img1.keys())[-1])[-1]\n",
        "os.rename(list(img1.keys())[-1], \"input_image1{}\".format(ext)) \n",
        "input_img1 = \"input_image1\" + ext"
      ],
      "execution_count": null,
      "outputs": []
    },
    {
      "cell_type": "code",
      "metadata": {},
      "source": [
        "display(Image(input_img1))"
      ],
      "execution_count": null,
      "outputs": []
    },
    {
      "cell_type": "markdown",
      "metadata": {},
      "source": [
        "# Upload second image\n",
        "\n",
        "Next, upload the second image you'd like to mix with the first one. "
      ]
    },
    {
      "cell_type": "code",
      "metadata": {},
      "source": [
        "img2 = files.upload()\n",
        "\n",
        "#Renaming the file for convenience. You can ignore the lines below.\n",
        "ext = os.path.splitext(list(img2.keys())[-1])[-1]\n",
        "os.rename(list(img2.keys())[-1], \"input_image2{}\".format(ext)) \n",
        "input_img2 = \"input_image2\" + ext"
      ],
      "execution_count": null,
      "outputs": []
    },
    {
      "cell_type": "code",
      "metadata": {},
      "source": [
        "display(Image(input_img2))"
      ],
      "execution_count": null,
      "outputs": []
    },
    {
      "cell_type": "code",
      "metadata": {},
      "source": [
        "#@title Here we resize the uploaded images. To see the details, double-click this cell.\n",
        "image1 = imread(input_img1, channel_first=True)[:3]\n",
        "image2 = imread(input_img2, channel_first=True)[:3]\n",
        "scale = float(image1.shape[1]) / image2.shape[1]\n",
        "image2 = imresize(image2, size=(int(image2.shape[2]*scale), int(image2.shape[1]*scale)), channel_first=True)\n",
        "\n",
        "larger_shape = [max(image1.shape[i], image2.shape[i]) for i in range(3)]\n",
        "pad_length_1 = [larger_shape[i] - image1.shape[i] for i in range(3)]\n",
        "pad_length_2 = [larger_shape[i] - image2.shape[i] for i in range(3)]\n",
        "\n",
        "image1 = np.pad(image1, (\n",
        "                (0, 0),\n",
        "                (pad_length_1[1] // 2, pad_length_1[1] // 2 + pad_length_1[1] % 2),\n",
        "                (pad_length_1[2] // 2, pad_length_1[2] // 2 + pad_length_1[2] % 2)),\n",
        "                mode=\"reflect\")\n",
        "\n",
        "image2 = np.pad(image2, (\n",
        "                (0, 0),\n",
        "                (pad_length_2[1] // 2, pad_length_2[1] // 2 + pad_length_2[1] % 2),\n",
        "                (pad_length_2[2] // 2, pad_length_2[2] // 2 + pad_length_2[2] % 2)),\n",
        "                mode=\"reflect\")"
      ],
      "execution_count": null,
      "outputs": []
    },
    {
      "cell_type": "code",
      "metadata": {},
      "source": [
        "#@title Choose data augmentation config.\n",
        "\n",
        "#@markdown Choose which data augmentation is used.\n",
        "mixtype = \"vhmmixup\"  #@param ['mixup', 'cutmix', 'vhmmixup']\n",
        "#@markdown choose alpha value. (default: 0.5)\n",
        "alpha = 1.04  #@param {type: \"slider\", min: 0.0, max: 2.0, step: 0.01}\n"
      ],
      "execution_count": null,
      "outputs": []
    },
    {
      "cell_type": "markdown",
      "metadata": {},
      "source": [
        "Now setup the mix augmentation and so on."
      ]
    },
    {
      "cell_type": "code",
      "metadata": {},
      "source": [
        "inshape = (2,) + image1.shape\n",
        "if mixtype == \"mixup\":\n",
        "    mdl = MixupLearning(2, alpha=alpha)\n",
        "elif mixtype == \"cutmix\":\n",
        "    mdl = CutmixLearning(inshape, alpha=alpha, cutmix_prob=1.0)\n",
        "else:\n",
        "    # \"vhmixup\" is used.\n",
        "    mdl = VHMixupLearning(inshape, alpha=alpha)\n",
        "\n",
        "image_train = nn.Variable(inshape)\n",
        "label_train = nn.Variable((2, 1))\n",
        "mix_image, mix_label = mdl.mix_data(image_train, F.one_hot(label_train, (2, )))\n",
        "image_train.d[0] = image1 / 255.\n",
        "image_train.d[1] = image2 / 255."
      ],
      "execution_count": null,
      "outputs": []
    },
    {
      "cell_type": "markdown",
      "metadata": {},
      "source": [
        "# Apply Mix Augmentation\n",
        "Running the following cell executes the augmentation and displays the augmented images. Note that every time you run the cell, the output will be different due to the randomness. Simple as it is, these augmentation techniques are very useful and actually improve the network performance."
      ]
    },
    {
      "cell_type": "code",
      "metadata": {},
      "source": [
        "mdl.set_mix_ratio()\n",
        "mix_image.forward()\n",
        "plt.imshow(mix_image.d[1].transpose(1,2,0))"
      ],
      "execution_count": null,
      "outputs": []
    }
  ],
  "metadata": {
  "kernelspec": {
   "display_name": "Python 3",
   "language": "python",
   "name": "python3"
  },
    "accelerator": "GPU",
    "language_info": {
      "codemirror_mode": {
        "name": "ipython",
        "version": 3
      },
      "file_extension": ".py",
      "mimetype": "text/x-python",
      "name": "python",
      "nbconvert_exporter": "python",
      "pygments_lexer": "ipython3",
      "version": "3.6.8"
    }
  },
  "nbformat": 4,
  "nbformat_minor": 0
}
