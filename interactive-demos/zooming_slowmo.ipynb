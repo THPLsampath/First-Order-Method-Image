{
  "cells": [
    {
      "cell_type": "markdown",
      "metadata": {},
      "source": [
        "# Zooming Slow-Mo\r\n",
        "|Original| Zooming Slow-Mo|\r\n",
        "|:-------:|:-------------:|\r\n",
        "|<a href=\"url\"><img src='https://github.com/sony/nnabla-examples/raw/master/frame-interpolation/zooming-slow-mo/demo/original.gif' width=250></a>|<a href=\"url\"><img src='https://github.com/sony/nnabla-examples/raw/master/frame-interpolation/zooming-slow-mo/demo/original.gif' width=250></a>|\r\n",
        "\r\n",
        "This example interactively demonstrates [Zooming Slow-Mo](https://arxiv.org/abs/2002.11616), a model for video super-resolution and video frame interpolation."
      ]
    },
    {
      "cell_type": "markdown",
      "metadata": {},
      "source": [
        "# Preparation\r\n",
        "Let's start by installing nnabla and accessing [nnabla-examples repository](https://github.com/sony/nnabla-examples). If you're running on Colab, make sure that your Runtime setting is set as GPU, which can be set up from the top menu (Runtime → change runtime type), and make sure to click **Connect** on the top right-hand side of the screen before you start."
      ]
    },
    {
      "cell_type": "code",
      "metadata": {},
      "source": [
        "!pip install nnabla-ext-cuda100\r\n",
        "!git clone https://github.com/sony/nnabla-examples.git\r\n",
        "%cd nnabla-examples/frame-interpolation/zooming-slow-mo"
      ],
      "execution_count": null,
      "outputs": []
    },
    {
      "cell_type": "markdown",
      "metadata": {},
      "source": [
        "We also need to install a library to work with videos and images."
      ]
    },
    {
      "cell_type": "code",
      "metadata": {},
      "source": [
        "!pip install ffmpeg"
      ],
      "execution_count": null,
      "outputs": []
    },
    {
      "cell_type": "markdown",
      "metadata": {},
      "source": [
        "Now we define a function which plays videos in Colab. Simply run the following cell."
      ]
    },
    {
      "cell_type": "code",
      "metadata": {},
      "source": [
        "from IPython.display import HTML\r\n",
        "from base64 import b64encode\r\n",
        "\r\n",
        "\r\n",
        "def play_video(filename, height=512, width=512):\r\n",
        "    mp4 = open(filename, 'rb').read()\r\n",
        "    data_url = \"data:video/mp4;base64,\" + b64encode(mp4).decode()\r\n",
        "    return HTML(f\"\"\"\r\n",
        "    <video width={width} height={height} controls>\r\n",
        "          <source src={data_url} type=\"video/mp4\">\r\n",
        "    </video>\"\"\")"
      ],
      "execution_count": null,
      "outputs": []
    },
    {
      "cell_type": "markdown",
      "metadata": {},
      "source": [
        "Let's also download the pre-trained weight parameters."
      ]
    },
    {
      "cell_type": "code",
      "metadata": {},
      "source": [
        "!wget https://nnabla.org/pretrained-models/nnabla-examples/frame-interpolation/zooming-slo-mo/zooming_slo_mo.h5\r\n",
        "!wget https://nnabla.org/pretrained-models/nnabla-examples/frame-interpolation/zooming-slo-mo/slo_mo.h5"
      ],
      "execution_count": null,
      "outputs": []
    },
    {
      "cell_type": "markdown",
      "metadata": {},
      "source": [
        "# Upload Video\r\n",
        "Run the following cell to upload your own video. You do not have to upload low resolution, low frame rate video, since we will convert it to low resolution and frame rate later, but try not to upload videos that are too long! We recommend videos of less than 5 seconds."
      ]
    },
    {
      "cell_type": "code",
      "metadata": {},
      "source": [
        "from google.colab import files\r\n",
        "\r\n",
        "video = files.upload()"
      ],
      "execution_count": null,
      "outputs": []
    },
    {
      "cell_type": "markdown",
      "metadata": {},
      "source": [
        "Let's rename the uploaded video file for convenience."
      ]
    },
    {
      "cell_type": "code",
      "metadata": {},
      "source": [
        "import os\r\n",
        "ext = os.path.splitext(list(video.keys())[-1])[-1]\r\n",
        "os.rename(list(video.keys())[-1], \"input_video{}\".format(ext)) \r\n",
        "input_video = \"input_video\" + ext"
      ],
      "execution_count": null,
      "outputs": []
    },
    {
      "cell_type": "markdown",
      "metadata": {},
      "source": [
        "We will now extract frames from the video with low resolution and low frame rate, and subsequently make a low resolution, low frame rate video out of it. \r\n",
        "\r\n",
        "We will convert it to resolution aspect ratio of width 200 and corresponding height, but if you want to specify your custom ratio, modify the part `scale=200:$new_height` in the cell below. Just make sure that both height and width are multiples of 4, and if aspect ratio is too high, it may result in memory error."
      ]
    },
    {
      "cell_type": "code",
      "metadata": {},
      "source": [
        "width=!ffprobe -v error -select_streams v:0 -show_entries stream=width -of csv=p=0 input_video.mp4\r\n",
        "height=!ffprobe -v error -select_streams v:0 -show_entries stream=height -of csv=p=0 input_video.mp4\r\n",
        "new_height = int(height[0])*200 // int(width[0])\r\n",
        "new_height = 4*round(new_height/4)\r\n",
        "!mkdir -p frames/input_video\r\n",
        "!ffmpeg -i $input_video -vf \"fps=10, scale=200:$new_height\" frames/input_video/frame_%04d.png\r\n",
        "!ffmpeg -i frames/input_video/frame_%04d.png -r 10/1 -y low_res.mp4"
      ],
      "execution_count": null,
      "outputs": []
    },
    {
      "cell_type": "markdown",
      "metadata": {},
      "source": [
        "# Video super-resolution and frame interpolation\r\n",
        "\r\n",
        "We are ready now!\r\n",
        "\r\n",
        "We will first apply frame interpolation only, and then apply both super-resolution and frame interpolation to see the differences.\r\n",
        "\r\n",
        "First, we run frame interpolation with the following cell, and make a video out of it.\r\n",
        "\r\n",
        "(**Note**: if you run into memory allocation error, please try with shorter video)"
      ]
    },
    {
      "cell_type": "code",
      "metadata": {},
      "source": [
        "!python inference.py --model slo_mo.h5 --input-dir frames/ --only-slomo\r\n",
        "!ffmpeg -i results/input_video/%08d.png -r 24/1 -y slowmo.mp4"
      ],
      "execution_count": null,
      "outputs": []
    },
    {
      "cell_type": "markdown",
      "metadata": {},
      "source": [
        "Now, let's apply both frame interpolatioon and super-resolution, and also make a video out of it."
      ]
    },
    {
      "cell_type": "code",
      "metadata": {},
      "source": [
        "!python inference.py --model zooming_slo_mo.h5 --input-dir frames/\r\n",
        "!ffmpeg -i results/input_video/%08d.png -r 24/1 -y zooming_slowmo.mp4"
      ],
      "execution_count": null,
      "outputs": []
    },
    {
      "cell_type": "markdown",
      "metadata": {},
      "source": [
        "Let's check the results!\r\n",
        "\r\n",
        "First, let's check the low resolution, low frame rate version of the video."
      ]
    },
    {
      "cell_type": "code",
      "metadata": {},
      "source": [
        "play_video(\"low_res.mp4\")"
      ],
      "execution_count": null,
      "outputs": []
    },
    {
      "cell_type": "markdown",
      "metadata": {},
      "source": [
        "OK, it was low resolution, low frame rate video that you proably don't feel like watching.\r\n",
        "\r\n",
        "Now let's see the high frame rate version of it."
      ]
    },
    {
      "cell_type": "code",
      "metadata": {},
      "source": [
        "play_video(\"slowmo.mp4\")"
      ],
      "execution_count": null,
      "outputs": []
    },
    {
      "cell_type": "markdown",
      "metadata": {},
      "source": [
        "Frame rate is higher with frame interpolation, but it's still low resolution.\r\n",
        "\r\n",
        "Finally, let's see the high resolution, high frame rate version!"
      ]
    },
    {
      "cell_type": "code",
      "metadata": {},
      "source": [
        "play_video(\"zooming_slowmo.mp4\")"
      ],
      "execution_count": null,
      "outputs": []
    },
    {
      "cell_type": "markdown",
      "metadata": {},
      "source": [
        "Were you able to see the enhancements?\r\n",
        "\r\n",
        "Hope you enjoyed it!"
      ]
    }
  ],
 "metadata": {
  "kernelspec": {
   "display_name": "Python 3",
   "language": "python",
   "name": "python3"
  },
  "accelerator": "GPU",
  "language_info": {
   "codemirror_mode": {
    "name": "ipython",
    "version": 3
   },
   "file_extension": ".py",
   "mimetype": "text/x-python",
   "name": "python",
   "nbconvert_exporter": "python",
   "pygments_lexer": "ipython3",
   "version": "3.5.2"
  }
 },
 "nbformat": 4,
 "nbformat_minor": 2
}
