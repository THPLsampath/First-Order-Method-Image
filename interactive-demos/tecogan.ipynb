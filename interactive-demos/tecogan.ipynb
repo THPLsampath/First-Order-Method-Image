{
  "cells": [
    {
      "cell_type": "markdown",
      "metadata": {},
      "source": [
        "# TecoGAN\n",
        "\n",
        "|Original| TecoGAN|\n",
        "|:-------:|:-------------:|\n",
        "|<a href=\"url\"><img src='https://github.com/sony/nnabla-examples/raw/master/GANs/tecogan/results/cropped_lr_city.gif' width=250></a>|<a href=\"url\"><img src='https://github.com/sony/nnabla-examples/raw/master/GANs/tecogan/results/cropped_sr_city.gif' width=250></a>|\n",
        "|<a href=\"url\"><img src='https://github.com/sony/nnabla-examples/raw/master/GANs/tecogan/results/cropped_lr_bridge.gif' width=250></a>|<a href=\"url\"><img src='https://github.com/sony/nnabla-examples/raw/master/GANs/tecogan/results/cropped_sr_bridge.gif' width=250></a>|\n",
        "\n",
        "This example interactively demonstrates TecoGAN from the paper [LEARNING TEMPORAL COHERENCE VIA SELF-SUPERVISION FOR GAN-BASED VIDEO GENERATION](https://arxiv.org/pdf/1811.09393.pdf), a model for video super-resolution that exploits temporal self-supervision. \n",
        "\n",
        "By leveraging temporal adversarial learning with a novel ping-pong loss, the model is able to generate results free of temporal artifacts while preserving spatial details."
      ]
    },
    {
      "cell_type": "markdown",
      "metadata": {},
      "source": [
        "# Preparation\n",
        "Let's start by installing nnabla and accessing [nnabla-examples repository](https://github.com/sony/nnabla-examples). If you're running on Colab, make sure that your Runtime setting is set as GPU, which can be set up from the top menu (Runtime → change runtime type), and make sure to click **Connect** on the top right-hand side of the screen before you start."
      ]
    },
    {
      "cell_type": "code",
      "metadata": {},
      "source": [
        "!pip install nnabla-ext-cuda100\n",
        "!pip install ffmpeg\n",
        "!git clone https://github.com/sony/nnabla-examples.git\n",
        "%cd nnabla-examples/GANs/tecogan"
      ],
      "execution_count": null,
      "outputs": []
    },
    {
      "cell_type": "markdown",
      "metadata": {},
      "source": [
        "Let's also download the pre-trained parameters, and a subset of test dataset provided by the author of the paper. This may take a few minutes."
      ]
    },
    {
      "cell_type": "code",
      "metadata": {},
      "source": [
        "!wget https://nnabla.org/pretrained-models/nnabla-examples/GANs/tecogan/tecogan_model.h5\n",
        "!wget https://ge.in.tum.de/download/data/TecoGAN/vid3_LR.zip\n",
        "!unzip vid3_LR.zip"
      ],
      "execution_count": null,
      "outputs": []
    },
    {
      "cell_type": "markdown",
      "metadata": {},
      "source": [
        "Let's also download the pre-trained weight parameters."
      ]
    },
    {
      "cell_type": "markdown",
      "metadata": {},
      "source": [
        "# Super-Resolution\n",
        "Now, let's apply TecoGAN to one of the low-resolution scenes from the downloaded dataset. \n",
        "\n",
        "Running the following cell will run super-resolution with TecoGAN to the scene, and make two videos out of the original low-resolution frames and generated high-resolution frames."
      ]
    },
    {
      "cell_type": "code",
      "metadata": {},
      "source": [
        "!python generate.py --model tecogan_model.h5 --input-dir-lr walk --output-dir results/walk\n",
        "!ffmpeg -i results/walk/output_%04d.png -r 24/1 -y hr.mp4\n",
        "!ffmpeg -i walk/%04d.png -r 24/1 -y lr.mp4"
      ],
      "execution_count": null,
      "outputs": []
    },
    {
      "cell_type": "markdown",
      "metadata": {},
      "source": [
        "We're pretty much done, but we want to check the results with our own eyes, right?\n",
        "\n",
        "Let's run the following cell first, which will help us play videos.\n",
        "\n"
      ]
    },
    {
      "cell_type": "code",
      "metadata": {},
      "source": [
        "from IPython.display import HTML\n",
        "from base64 import b64encode\n",
        "\n",
        "\n",
        "def play_video(filename, height=512, width=512):\n",
        "    mp4 = open(filename, 'rb').read()\n",
        "    data_url = \"data:video/mp4;base64,\" + b64encode(mp4).decode()\n",
        "    return HTML(f\"\"\"\n",
        "    <video width={width} height={height} controls>\n",
        "          <source src={data_url} type=\"video/mp4\">\n",
        "    </video>\"\"\")"
      ],
      "execution_count": null,
      "outputs": []
    },
    {
      "cell_type": "markdown",
      "metadata": {},
      "source": [
        "Let's play the low resolution version first."
      ]
    },
    {
      "cell_type": "code",
      "metadata": {},
      "source": [
        "play_video(\"lr.mp4\")"
      ],
      "execution_count": null,
      "outputs": []
    },
    {
      "cell_type": "markdown",
      "metadata": {},
      "source": [
        "Now let's play the high resolution version of it, rendered by TecoGAN!\n",
        "You should be able to clearly see the difference."
      ]
    },
    {
      "cell_type": "code",
      "metadata": {},
      "source": [
        "play_video(\"hr.mp4\")"
      ],
      "execution_count": null,
      "outputs": []
    },
    {
      "cell_type": "markdown",
      "metadata": {},
      "source": [
        "Did you notice the clear enhancement? :)"
      ]
    },
    {
      "cell_type": "markdown",
      "metadata": {},
      "source": [
        "# Do it with your own video!\n",
        "\n",
        "You can also do it with your own video! Run the following cell to upload your own video. You do not have to upload low resolution video, since we will convert it to low resolution, but try not to upload videos that are too long! We recommend videos of **less than 5 seconds** for stable demo on colab."
      ]
    },
    {
      "cell_type": "code",
      "metadata": {},
      "source": [
        "from google.colab import files\n",
        "\n",
        "video = files.upload()"
      ],
      "execution_count": null,
      "outputs": []
    },
    {
      "cell_type": "markdown",
      "metadata": {},
      "source": [
        "Let's rename the uploaded video file for convenience."
      ]
    },
    {
      "cell_type": "code",
      "metadata": {},
      "source": [
        "import os\n",
        "ext = os.path.splitext(list(video.keys())[-1])[-1]\n",
        "os.rename(list(video.keys())[-1], \"input_video{}\".format(ext)) \n",
        "input_video = \"input_video\" + ext"
      ],
      "execution_count": null,
      "outputs": []
    },
    {
      "cell_type": "markdown",
      "metadata": {},
      "source": [
        "We will now extract frames from your uploaded video and subsequently make a low resolution version of it. \n",
        "\n",
        "We will convert it to resolution aspect ratio of width 200 and corresponding height, but if you want to specify your custom ratio, modify the part `scale=200:$new_height` in the cell below. Just make sure that both height and width are multiples of 4, and if aspect ratio is too high, it may result in memory error."
      ]
    },
    {
      "cell_type": "code",
      "metadata": {},
      "source": [
        "width=!ffprobe -v error -select_streams v:0 -show_entries stream=width -of csv=p=0 input_video.mp4\n",
        "height=!ffprobe -v error -select_streams v:0 -show_entries stream=height -of csv=p=0 input_video.mp4\n",
        "new_height = int(height[0])*200 // int(width[0])\n",
        "new_height = 4*round(new_height/4)\n",
        "!mkdir -p frames/input_video\n",
        "!ffmpeg -i $input_video -vf \"fps=10, scale=200:$new_height\" frames/input_video/frame_%04d.png\n",
        "!ffmpeg -i frames/input_video/frame_%04d.png -r 24/1 -y user_video_lr.mp4"
      ],
      "execution_count": null,
      "outputs": []
    },
    {
      "cell_type": "markdown",
      "metadata": {},
      "source": [
        "Now, let's apply super-resolution with TecoGAN and make a video out of it."
      ]
    },
    {
      "cell_type": "code",
      "metadata": {},
      "source": [
        "!python generate.py --model tecogan_model.h5 --input-dir-lr frames/input_video/ --output-dir results/user\n",
        "!ffmpeg -i results/user/output_frame_%04d.png -r 24/1 -y user_video_hr.mp4"
      ],
      "execution_count": null,
      "outputs": []
    },
    {
      "cell_type": "markdown",
      "metadata": {},
      "source": [
        "Let's check the results!\n",
        "\n",
        "First, let's check the low resolution version of your video."
      ]
    },
    {
      "cell_type": "code",
      "metadata": {},
      "source": [
        "play_video(\"user_video_lr.mp4\")"
      ],
      "execution_count": null,
      "outputs": []
    },
    {
      "cell_type": "markdown",
      "metadata": {},
      "source": [
        "OK, it was a low resolution video that you proably don't feel like watching.\n",
        "\n",
        "Now let's see the high resolution version of it rendered by TecoGAN!"
      ]
    },
    {
      "cell_type": "code",
      "metadata": {},
      "source": [
        "play_video(\"user_video_hr.mp4\")"
      ],
      "execution_count": null,
      "outputs": []
    },
    {
      "cell_type": "markdown",
      "metadata": {},
      "source": [
        "Hope you enjoyed it!"
      ]
    }
  ],
 "metadata": {
  "kernelspec": {
   "display_name": "Python 3",
   "language": "python",
   "name": "python3"
  },
  "accelerator": "GPU",
  "language_info": {
   "codemirror_mode": {
    "name": "ipython",
    "version": 3
   },
   "file_extension": ".py",
   "mimetype": "text/x-python",
   "name": "python",
   "nbconvert_exporter": "python",
   "pygments_lexer": "ipython3",
   "version": "3.5.2"
  }
 },
 "nbformat": 4,
 "nbformat_minor": 2
}
