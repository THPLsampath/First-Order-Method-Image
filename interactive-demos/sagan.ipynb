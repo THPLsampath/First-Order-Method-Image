{
  "cells": [
    {
      "cell_type": "markdown",
      "metadata": {
        "id": "6bEzh_IbduEj",
        "colab_type": "text"
      },
      "source": [
        "# Self-Attention GAN\n",
        "![alt text](https://blog.nnabla.org/wp-content/uploads/2018/12/04110034/000985-300x300.png)![alt text](https://blog.nnabla.org/wp-content/uploads/2018/12/04110037/000949-300x300.png)![alt text](https://blog.nnabla.org/wp-content/uploads/2018/12/04110039/000937-300x300.png)![alt text](https://blog.nnabla.org/wp-content/uploads/2018/12/04110042/000933-300x300.png)![alt text](https://blog.nnabla.org/wp-content/uploads/2018/12/04110045/000725-300x300.png)![alt text](https://blog.nnabla.org/wp-content/uploads/2018/12/04110050/000607-300x300.png)![alt text](https://blog.nnabla.org/wp-content/uploads/2018/12/04110054/000574-300x300.png)![alt text](https://blog.nnabla.org/wp-content/uploads/2018/12/04110057/000323-300x300.png)![alt text](https://blog.nnabla.org/wp-content/uploads/2018/12/04110103/000153-300x300.png)![alt text](https://blog.nnabla.org/wp-content/uploads/2018/12/04110107/000096-300x300.png)",
        "\n",
        "This example interactively demonstrates [Self-Attention GAN](http://proceedings.mlr.press/v97/zhang19d/zhang19d.pdf), a model for image generation."
      ]
    },
    {
      "cell_type": "markdown",
      "metadata": {},
      "source": [
        "# Preparation\n",
        "Let's start by installing nnabla and accessing [nnabla-examples repository](https://github.com/sony/nnabla-examples). If you're running on Colab, make sure that your Runtime setting is set as GPU, which can be set up from the top menu (Runtime → change runtime type), and make sure to click **Connect** on the top right-hand side of the screen before you start."
      ]
    },
    {
      "cell_type": "code",
      "metadata": {},
      "source": [
        "!pip install nnabla-ext-cuda100\n",
        "!git clone https://github.com/sony/nnabla-examples.git\n",
        "%cd nnabla-examples/GANs/sagan"
      ],
      "execution_count": null,
      "outputs": []
    },
    {
      "cell_type": "markdown",
      "metadata": {},
      "source": [
        "Let's also download the pre-trained weights parameters."
      ]
    },
    {
      "cell_type": "code",
      "metadata": {},
      "source": [
        "!wget https://nnabla.org/pretrained-models/nnabla-examples/GANs/sagan/params_999999.h5"
      ],
      "execution_count": null,
      "outputs": []
    },
    {
      "cell_type": "markdown",
      "metadata": {},
      "source": [
        "# Generation\n",
        "We are now ready to generate images. You can specify the objects to generate images from, by setting the number for `class_id` in the slider below. \n",
        "\n",
        "For example, setting the `class_id` as 151, you will generate images of chihuahua. You can see which class ID corresponds to which object from [here](https://github.com/sony/nnabla-examples/blob/master/GANs/sagan/label_to_classname.txt). "
      ]
    },
    {
      "cell_type": "code",
      "metadata": {},
      "source": [
        "class_id = 151 #@param {type:\"slider\", min:0, max:999, step:1}\n"
      ],
      "execution_count": null,
      "outputs": []
    },
    {
      "cell_type": "markdown",
      "metadata": {},
      "source": [
        "Now let's generate the images by running the cell below. The generated images will also be displayed in the output cell."
      ]
    },
    {
      "cell_type": "code",
      "metadata": {},
      "source": [
        "!python generate.py -b 36 --model-load-path params_999999.h5 --class-id $class_id\n",
        "from IPython.display import Image,display\n",
        "fname = './result/example_0/Generated-Image-Tile-'+str(class_id)+'/000000.png'\n",
        "display(Image(fname))"
      ],
      "execution_count": null,
      "outputs": []
    },
    {
      "cell_type": "markdown",
      "metadata": {},
      "source": [
        "# Morphing\n",
        "![alt text](https://blog.nnabla.org/wp-content/uploads/2018/12/04105043/categorical-morphing.gif)",
        "\n",
        "We can also perform 'morphing', where it shows a gradual visual change from an object to a different object, e.g., from a dog to a glass of beer. \n",
        "\n",
        "As in generation, we need to specify which objects to generate, but this time we need to specify two object classes, i.e., object to start morphing from (`from_id`), and object to morph to (`to_id`). Again, you can refer to [link text](https://) for mapping between class IDs and objects. \n",
        "\n",
        "`num_morph` refers to how many images to go through during morphing. For example, setting it as 10, we will have 10 different visual stages going from, say, a dog to a glass of beer. If you're unsure what to do with it, you can simply leave as is, and the default value of 8 will be selected."
      ]
    },
    {
      "cell_type": "code",
      "metadata": {},
      "source": [
        "from_id = 493 #@param {type:\"slider\", min:0, max:999, step:1}\n",
        "to_id = 294 #@param {type:\"slider\", min:0, max:999, step:1}\n",
        "num_morphs = 20 #@param {type:\"slider\", min:8, max:20, step:1}"
      ],
      "execution_count": null,
      "outputs": []
    },
    {
      "cell_type": "markdown",
      "metadata": {},
      "source": [
        "Once you're done setting up the sliders, let's morph! The output will be displayed as a .gif animation. You can play around with different objects. Hope you have fun!"
      ]
    },
    {
      "cell_type": "code",
      "metadata": {},
      "source": [
        "!python morph.py -b 1 --n-morphs $num_morphs --model-load-path params_999999.h5 --from-class-id $from_id --to-class-id $to_id\n",
        "\n",
        "import imageio\n",
        "from pathlib import Path\n",
        "\n",
        "images = []\n",
        "for i in range(num_morphs):\n",
        "    images.append(imageio.imread('result/example_0/Morphed-Image-'+str(from_id)+'-'+str(to_id)+'/'+str(i).zfill(6)+'-000.png'))\n",
        "imageio.mimsave('animation.gif',images,duration=0.25)\n",
        "\n",
        "gifPath = Path(\"animation.gif\")\n",
        "with open(gifPath,'rb') as f:\n",
        "    display(Image(data=f.read(), format='png'))"
      ],
      "execution_count": null,
      "outputs": []
    }
  ],
 "metadata": {
  "kernelspec": {
   "display_name": "Python 3",
   "language": "python",
   "name": "python3"
  },
  "accelerator": "GPU",
  "language_info": {
   "codemirror_mode": {
    "name": "ipython",
    "version": 3
   },
   "file_extension": ".py",
   "mimetype": "text/x-python",
   "name": "python",
   "nbconvert_exporter": "python",
   "pygments_lexer": "ipython3",
   "version": "3.6.8"
  }
 },
 "nbformat": 4,
 "nbformat_minor": 2
}
