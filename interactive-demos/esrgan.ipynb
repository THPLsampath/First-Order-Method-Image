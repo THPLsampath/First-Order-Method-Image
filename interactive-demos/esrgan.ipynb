{
  "cells": [
    {
      "cell_type": "markdown",
      "metadata": {},
      "source": [
        "# ESR-GAN\n",
        "Input | Output\n",
        "--- | ---\n",
        "![alt text](https://github.com/sony/nnabla-examples/raw/master/GANs/esrgan/results/baboon.png) | ![alt text](https://github.com/sony/nnabla-examples/raw/master/GANs/esrgan/results/baboon_SR.png)\n",
        "![alt text](https://github.com/sony/nnabla-examples/raw/master/GANs/esrgan/results/comic.png) | ![alt text](https://github.com/sony/nnabla-examples/raw/master/GANs/esrgan/results/comic_SR.png)\n",
        "![alt text](https://github.com/sony/nnabla-examples/raw/master/GANs/esrgan/results/result.png) | ![alt text](https://github.com/sony/nnabla-examples/raw/master/GANs/esrgan/results/result_SR.png)\n",
        "\n",
        "This example interactively demonstrates [ESR-GAN](https://openaccess.thecvf.com/content_ECCVW_2018/papers/11133/Wang_ESRGAN_Enhanced_Super-Resolution_Generative_Adversarial_Networks_ECCVW_2018_paper.pdf), a model for super-resolution of images.\n",
        "\n",
        "**Note:** The results may not be fully apprehensible without 4K display. Also, make sure not to use JPEG-compressed images as input."
      ]
    },
    {
      "cell_type": "markdown",
      "metadata": {},
      "source": [
        "# Preparation\n",
        "\n",
        "Let's start by installing nnabla and accessing [nnabla-examples repository](https://github.com/sony/nnabla-examples). If you're running on Colab, make sure that your Runtime setting is set as GPU, which can be checked from the top menu (Runtime → change runtime type), and make sure to click **Connect** on the top right-hand side of the screen before you start."
      ]
    },
    {
      "cell_type": "code",
      "metadata": {},
      "source": [
        "!pip install nnabla-ext-cuda100\n",
        "!git clone https://github.com/sony/nnabla-examples.git\n",
        "%cd nnabla-examples/GANs/esrgan"
      ],
      "execution_count": null,
      "outputs": []
    },
    {
      "cell_type": "markdown",
      "metadata": {},
      "source": [
        "Let's also download the pre-trained weight parameters."
      ]
    },
    {
      "cell_type": "code",
      "metadata": {},
      "source": [
        "!wget https://nnabla.org/pretrained-models/nnabla-examples/esrgan/esrgan_latest_g.h5"
      ],
      "execution_count": null,
      "outputs": []
    },
    {
      "cell_type": "markdown",
      "metadata": {},
      "source": [
        "# Upload an image\n",
        "Run the following cell to upload an image."
      ]
    },
    {
      "cell_type": "code",
      "metadata": {},
      "source": [
        "from google.colab import files\n",
        "\n",
        "img = files.upload()"
      ],
      "execution_count": null,
      "outputs": []
    },
    {
      "cell_type": "markdown",
      "metadata": {},
      "source": [
        "Let's rename the image for convenience."
      ]
    },
    {
      "cell_type": "code",
      "metadata": {},
      "source": [
        "import os\n",
        "ext = os.path.splitext(list(img.keys())[-1])[-1]\n",
        "os.rename(list(img.keys())[-1], \"input_image{}\".format(ext)) \n",
        "input_img = \"input_image\" + ext"
      ],
      "execution_count": null,
      "outputs": []
    },
    {
      "cell_type": "markdown",
      "metadata": {},
      "source": [
        "# Super-Resolution\n",
        "We are now ready to apply ESR-GAN and perform super-resolution! The output will be saved under filename `result.png`. "
      ]
    },
    {
      "cell_type": "code",
      "metadata": {},
      "source": [
        "!python inference.py --loadmodel esrgan_latest_g.h5 --input_image $input_img"
      ],
      "execution_count": null,
      "outputs": []
    },
    {
      "cell_type": "markdown",
      "metadata": {},
      "source": [
        "Let's compare the input image with the output image. Note again that you may need a 4K display to fully appreciate the enhancement."
      ]
    },
    {
      "cell_type": "code",
      "metadata": {},
      "source": [
        "from IPython.display import Image,display\n",
        "print('Input:')\n",
        "display(Image(input_img))\n",
        "print('Output:')\n",
        "display(Image('result.png'))"
      ],
      "execution_count": null,
      "outputs": []
    }
  ],
 "metadata": {
  "kernelspec": {
   "display_name": "Python 3",
   "language": "python",
   "name": "python3"
  },
  "accelerator": "GPU",
  "language_info": {
   "codemirror_mode": {
    "name": "ipython",
    "version": 3
   },
   "file_extension": ".py",
   "mimetype": "text/x-python",
   "name": "python",
   "nbconvert_exporter": "python",
   "pygments_lexer": "ipython3",
   "version": "3.5.2"
  }
 },
 "nbformat": 4,
 "nbformat_minor": 2
}
