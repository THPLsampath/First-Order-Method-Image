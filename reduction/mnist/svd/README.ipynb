{
 "cells": [
  {
   "cell_type": "markdown",
   "metadata": {},
   "source": [
    "# Singular Value Decomposition Example\n",
    "\n",
    "In this example, Singular Value Decomposition (SVD) is used for reducing the size of a neural network. With SVD, one can approximate an affine matrix with two matrices, i.e., $W = USV$ . this only makes the computational complexity higher and memory space larger. However, if one uses a row-rank approximation, i.e., $W \\approx US'V$, where S' is the diagonal matrix which contains eigen values in the higher order, but a few values are used, then the computational complexity and memory space are reduced.\n",
    "\n",
    "More specifically, the learned parameter, e.g., matrix $W \\ \\in \\mathcal{R}^{n \\times m}$ is first\n",
    "decomposed using SVD, $W = USV$, where an unitary matrix $U \\in \\mathcal{R}^{n \\times n}$, \n",
    "a diagonal matrix whose elements are the singular values $S \\in \\mathcal{R}^{m \\times m}$, \n",
    "and an unitary matrix $V \\in \\mathcal{R}^{m \\times m}$. \n",
    "One can use only low-rank $R$ diagonal elements of $S$, $S'$, $W$ can be approximated in $R$-rank,\n",
    "matrix $W \\approx U'S'V'$. If $R < \\frac{n \\times m}{n + m}$, then the size of neural networks is reduced.\n",
    "\n",
    "The follows show the workflow when one reduces the size of a network by using `SVD`.\n",
    "\n",
    "1. Train a reference network \n",
    "2. Train a small network after applying SVD to an affine layer\n",
    "\n",
    "`classification.py` corresponds to the first one, and `classification_svd.py` does the second.\n",
    "\n",
    "This example uses a relatively fat network called LeNet which contains two affines.\n",
    "\n",
    "\n",
    "\n",
    "\n"
   ]
  },
  {
   "cell_type": "markdown",
   "metadata": {},
   "source": [
    "For using this examples, first run,"
   ]
  },
  {
   "cell_type": "markdown",
   "metadata": {},
   "source": [
    "```sh\n",
    "\n",
    "python classification.py -c \"cudnn\"\n",
    "\n",
    "```"
   ]
  },
  {
   "cell_type": "markdown",
   "metadata": {},
   "source": [
    "then, use SVD as"
   ]
  },
  {
   "cell_type": "markdown",
   "metadata": {},
   "source": [
    "```sh\n",
    "\n",
    "python classification_svd.py -c \"cudnn\" --model-load-path tmp.monitor/${the best result}.h5\n",
    "\n",
    "```"
   ]
  }
 ],
 "metadata": {
  "kernelspec": {
   "display_name": "Python 2",
   "language": "python",
   "name": "python2"
  },
  "language_info": {
   "codemirror_mode": {
    "name": "ipython",
    "version": 2
   },
   "file_extension": ".py",
   "mimetype": "text/x-python",
   "name": "python",
   "nbconvert_exporter": "python",
   "pygments_lexer": "ipython2",
   "version": "2.7.12"
  }
 },
 "nbformat": 4,
 "nbformat_minor": 1
}
