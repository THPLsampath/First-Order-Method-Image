{
 "cells": [
  {
   "cell_type": "markdown",
   "metadata": {},
   "source": [
    "# ResNet2RNN Example\n",
    "\n",
    "Residual Network (ResNet) can be considered as Recurrent Neural Network (RNN)\n",
    "if the parameters are shared across `residual block`. In such context, \n",
    "the number of parameters of ResNet are dramatically reduced. This can\n",
    "be used for parameter reduction technique while sacrifying the computational cost.\n",
    "\n",
    "In details, one can denote RNN by $h_{t} = W^{xh}x_{t} + W^{hh}h_{t-1}$ where $x_{t}$ is the input, $h_{t-1}$ is the hidden units at time $t-1$, $W^{xh}$ is the input to hidden weight, $W^{hh}$ is the hidden to hidden weight. On the other hand, ResNet are denoted by $h^{d} = h^{d-1} + f(h^{d-1})$, where $h^{d}$ is the hidden units at depth $d$, $f$ is a function, typically the pipeline of the functions; convolution, batchnormalization, and non-linearity.\n",
    "\n",
    "If one set $f$ as $W^{hh}$ and $W^{xh}$ as zero matrix, then ResNet becomes \n",
    "RNN over the depth without input $x^{d}$. This is the underlying concept of what ResNet2RNN is like.   \n"
   ]
  },
  {
   "cell_type": "markdown",
   "metadata": {},
   "source": [
    "For using this example, run the following code,"
   ]
  },
  {
   "cell_type": "markdown",
   "metadata": {},
   "source": [
    "```sh\n",
    "python classification.py -c \"cudnn\" \\\n",
    "    --monitor-path \"cifar10_resnet2rnn_3x3x4_prediction\" \\\n",
    "    --model-save-path \"cifar10_resnet2rnn_3x3x4_prediction\" \\\n",
    "    --net \"cifar10_resnet2rnn_3x3x4_prediction\" \\\n",
    "    -d 0\n",
    "```"
   ]
  },
  {
   "cell_type": "markdown",
   "metadata": {},
   "source": [
    "## References\n",
    "1. Liao Qianli and Poggio Tomaso, \"Bridging the Gaps Between Residual Learning, Recurrent Neural Networks and Visual Cortex\", arXiv:1604.03640"
   ]
  }
 ],
 "metadata": {
  "kernelspec": {
   "display_name": "Python 2",
   "language": "python",
   "name": "python2"
  },
  "language_info": {
   "codemirror_mode": {
    "name": "ipython",
    "version": 2
   },
   "file_extension": ".py",
   "mimetype": "text/x-python",
   "name": "python",
   "nbconvert_exporter": "python",
   "pygments_lexer": "ipython2",
   "version": "2.7.12"
  }
 },
 "nbformat": 4,
 "nbformat_minor": 1
}
