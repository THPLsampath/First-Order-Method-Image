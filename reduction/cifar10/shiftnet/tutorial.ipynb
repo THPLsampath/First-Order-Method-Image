{
 "cells": [
  {
   "cell_type": "markdown",
   "metadata": {},
   "source": [
    "# ShiftNet Example\n",
    "\n",
    "This is the __ShiftNet__ example. __ShiftNet__ replaces the depth-wise convolution in the context of the depth-wise separable convolution (depth-wise convolution followed by pixel-wise convolution) with the __shift__ operation, which shifts a group of feature maps to e.g., top, top-right, right, bottom-right, and so on. Now, it is no need to compute the inner product of the depth-wise convolution, meaning zero flops."
   ]
  },
  {
   "cell_type": "markdown",
   "metadata": {},
   "source": [
    "To train the shiftnet, run like"
   ]
  },
  {
   "cell_type": "markdown",
   "metadata": {},
   "source": [
    "```bash\n",
    "python classification.py -d 0 -c \"cudnn\" \\\n",
    "    --net cifar10_shift_csc_prediction  \\\n",
    "    --maps 64 -p 0.5 \\\n",
    "    --monitor-path csc-maps_64-p_5 \\\n",
    "    --model-save-path csc-maps_64-p_5\n",
    "```"
   ]
  },
  {
   "cell_type": "markdown",
   "metadata": {},
   "source": [
    "See `args.py` in the same directory for more options."
   ]
  },
  {
   "cell_type": "markdown",
   "metadata": {},
   "source": [
    "# References\n",
    "\n",
    "1. Bichen Wu, Alvin Wan, Xiangyu Yue, Peter Jin, Sicheng Zhao, Noah Golmant, Amir Gholaminejad, Joseph Gonzalez, Kurt Keutzer, \"Shift: A Zero FLOP, Zero Parameter Alternative to Spatial Convolutions\", https://arxiv.org/abs/1711.08141"
   ]
  }
 ],
 "metadata": {
  "kernelspec": {
   "display_name": "Python 2",
   "language": "python",
   "name": "python2"
  },
  "language_info": {
   "codemirror_mode": {
    "name": "ipython",
    "version": 2
   },
   "file_extension": ".py",
   "mimetype": "text/x-python",
   "name": "python",
   "nbconvert_exporter": "python",
   "pygments_lexer": "ipython2",
   "version": "2.7.12"
  }
 },
 "nbformat": 4,
 "nbformat_minor": 1
}
