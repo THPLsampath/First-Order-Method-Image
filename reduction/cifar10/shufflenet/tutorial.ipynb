{
 "cells": [
  {
   "cell_type": "markdown",
   "metadata": {},
   "source": [
    "# ShuffleNet Example\n",
    "\n",
    "This is __ShuffleNet__ example on CIFAR-10 dataset.  __ShuffleNet__ reduces the computational overhead of `1x1` convolution, also known as the pixel-wise convolution, in the depth-wise separable convolution (depth-wise convolution followed by pixel-wise convolution) in by replacing it with the group `1x1` convolution and the regular `shuffle` operation over feature dimension.\n",
    "\n",
    "\n",
    "To train the shufflenet, run the following command,"
   ]
  },
  {
   "cell_type": "markdown",
   "metadata": {},
   "source": [
    "```bash\n",
    "python classification.py -d 0 -c \"cudnn\" \\\n",
    "    --net cifar10_shufflenet_prediction \\\n",
    "    --maps 64 \\\n",
    "    --groups 1 \\\n",
    "    --monitor-path shuffle-maps_64-group_1 \\\n",
    "    --model-save-path shuffle-maps_64-group_1\n",
    "```"
   ]
  },
  {
   "cell_type": "markdown",
   "metadata": {},
   "source": [
    "# References\n",
    "\n",
    "1. Xiangyu Zhang, Xinyu Zhou, Mengxiao Lin, Jian Sun, \"ShuffleNet: An Extremely Efficient Convolutional Neural Network for Mobile Devices\", https://arxiv.org/abs/1707.01083"
   ]
  }
 ],
 "metadata": {
  "kernelspec": {
   "display_name": "Python 2",
   "language": "python",
   "name": "python2"
  },
  "language_info": {
   "codemirror_mode": {
    "name": "ipython",
    "version": 2
   },
   "file_extension": ".py",
   "mimetype": "text/x-python",
   "name": "python",
   "nbconvert_exporter": "python",
   "pygments_lexer": "ipython2",
   "version": "2.7.12"
  }
 },
 "nbformat": 4,
 "nbformat_minor": 1
}
